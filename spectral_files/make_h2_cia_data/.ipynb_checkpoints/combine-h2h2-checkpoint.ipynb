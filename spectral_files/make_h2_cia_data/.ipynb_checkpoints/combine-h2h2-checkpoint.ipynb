{
 "cells": [
  {
   "cell_type": "code",
   "execution_count": 130,
   "metadata": {},
   "outputs": [],
   "source": [
    "import numpy as np\n",
    "import matplotlib.pyplot as plt\n",
    "\n",
    "\n",
    "data_low_temps = [60,100,150,200,250,300,350,400,500,600,700,800,900,1000,2000,3000,4000,5000,6000,7000]\n",
    "data_low =  np.genfromtxt('CIA_Borysow_H2H2_0060-7000K_0.61-500um.dat')\n",
    "\n",
    "data_high_temps = [1000,2000,3000,4000,5000,6000,7000]\n",
    "data_high =  np.genfromtxt('CIA_H2H2_1000-7000K.dat')"
   ]
  },
  {
   "cell_type": "code",
   "execution_count": 131,
   "metadata": {},
   "outputs": [
    {
     "data": {
      "text/plain": [
       "array([2.000e+01, 3.878e-08, 3.703e-08, 2.681e-08, 2.016e-08, 1.599e-08,\n",
       "       1.321e-08, 1.125e-08, 9.661e-09, 7.795e-09, 6.614e-09, 5.815e-09,\n",
       "       5.252e-09, 4.841e-09, 4.538e-09, 3.213e-09, 2.839e-09, 2.917e-09,\n",
       "       3.194e-09, 3.515e-09, 3.867e-09])"
      ]
     },
     "execution_count": 131,
     "metadata": {},
     "output_type": "execute_result"
    }
   ],
   "source": [
    "data_low[0]"
   ]
  },
  {
   "cell_type": "code",
   "execution_count": 132,
   "metadata": {},
   "outputs": [
    {
     "data": {
      "text/plain": [
       "array([2.000e+01, 4.675e-09, 3.213e-09, 2.839e-09, 2.917e-09, 3.194e-09,\n",
       "       3.515e-09, 3.867e-09])"
      ]
     },
     "execution_count": 132,
     "metadata": {},
     "output_type": "execute_result"
    }
   ],
   "source": [
    "data_high[0]"
   ]
  },
  {
   "cell_type": "code",
   "execution_count": 133,
   "metadata": {},
   "outputs": [
    {
     "data": {
      "text/plain": [
       "(1000, 8)"
      ]
     },
     "execution_count": 133,
     "metadata": {},
     "output_type": "execute_result"
    }
   ],
   "source": [
    "np.shape(data_high)"
   ]
  },
  {
   "cell_type": "code",
   "execution_count": 134,
   "metadata": {},
   "outputs": [
    {
     "data": {
      "text/plain": [
       "(824, 21)"
      ]
     },
     "execution_count": 134,
     "metadata": {},
     "output_type": "execute_result"
    }
   ],
   "source": [
    "np.shape(data_low)"
   ]
  },
  {
   "cell_type": "code",
   "execution_count": 135,
   "metadata": {},
   "outputs": [],
   "source": [
    "data_combined = np.zeros([np.shape(data_high)[0],np.shape(data_low)[1]])"
   ]
  },
  {
   "cell_type": "code",
   "execution_count": 136,
   "metadata": {},
   "outputs": [],
   "source": [
    "data_combined[:np.shape(data_low)[0]] = data_low[:]\n",
    "data_combined[np.shape(data_low)[0]:,-np.shape(data_high)[1]+1:] = data_high[np.shape(data_low)[0]:,1:]\n",
    "data_combined[:,0] = data_high[:,0]"
   ]
  },
  {
   "cell_type": "code",
   "execution_count": 137,
   "metadata": {},
   "outputs": [
    {
     "name": "stderr",
     "output_type": "stream",
     "text": [
      "/Users/markhammond/miniconda2/envs/ps-env/lib/python3.7/site-packages/ipykernel_launcher.py:1: RuntimeWarning: divide by zero encountered in log10\n",
      "  \"\"\"Entry point for launching an IPython kernel.\n"
     ]
    },
    {
     "data": {
      "text/plain": [
       "<matplotlib.collections.PolyCollection at 0x116251ba8>"
      ]
     },
     "execution_count": 137,
     "metadata": {},
     "output_type": "execute_result"
    },
    {
     "data": {
      "image/png": "[encoded data removed]",
      "text/plain": [
       "<Figure size 432x288 with 1 Axes>"
      ]
     },
     "metadata": {
      "needs_background": "light"
     },
     "output_type": "display_data"
    }
   ],
   "source": [
    "plt.pcolor(np.log10(data_combined))"
   ]
  },
  {
   "cell_type": "code",
   "execution_count": 160,
   "metadata": {},
   "outputs": [],
   "source": [
    "file1 = open(\"H2-H2_CIA_Borysow_combined.cia\",\"w\") \n",
    "\n",
    "# generate HITRAN header\n",
    "header = \"\"\n",
    "header+=\"{:>20}\".format(\"H2-H2\")\n",
    "header+=\"{:>10}\".format(\"%.3f\" %(np.min(data_combined[:,0])))\n",
    "header+=\"{:>10}\".format(\"%.3f\" %(np.max(data_combined[:,0])))\n",
    "header+=\"{:>7}\".format(\"%.d\" %(len(data_combined)))\n",
    "header+=\"{:>7}\".format(\"%.1f\" %(data_low_temps[i]))\n",
    "header+=\"{:>10}\".format(\"%1.3e\" %(1.385e-39*np.max(data_combined[:,1:])))\n",
    "header+=\" -.999                             6\\n\"\n",
    "\n",
    "\n",
    "\n",
    " \n",
    "\n",
    "# Conversion from amagat units from \"New section of the HITRAN database: Collision-induced absorption (CIA)\"\n",
    "for i in range(10,int(np.shape(data_combined[0])[0]-1)):\n",
    "    file1.write(\"               H2-H2    %.3f %.3f   %d  %.1f %1.3e -.999                             6\\n\" % (np.min(data_combined[:,0]),np.max(data_combined[:,0]),len(data_combined),data_low_temps[i],1.385e-39*np.max(data_combined[:,1:]))) \n",
    "    for j in range(int(np.shape(data_combined[:,0])[0])):\n",
    "        file1.write(\"   %.4f   %1.3e\" %(data_combined[j,0],1.385e-39*data_combined[j,i+1]))\n",
    "        file1.write('\\n')\n",
    "\n",
    "\n",
    "\n",
    "file1.close() \n"
   ]
  },
  {
   "cell_type": "code",
   "execution_count": 139,
   "metadata": {},
   "outputs": [
    {
     "data": {
      "text/plain": [
       "1000"
      ]
     },
     "execution_count": 139,
     "metadata": {},
     "output_type": "execute_result"
    }
   ],
   "source": [
    "len(data_combined)"
   ]
  },
  {
   "cell_type": "code",
   "execution_count": 161,
   "metadata": {},
   "outputs": [
    {
     "data": {
      "text/plain": [
       "100"
      ]
     },
     "execution_count": 161,
     "metadata": {},
     "output_type": "execute_result"
    }
   ],
   "source": [
    "len(header)"
   ]
  },
  {
   "cell_type": "code",
   "execution_count": null,
   "metadata": {},
   "outputs": [],
   "source": []
  }
 ],
 "metadata": {
  "kernelspec": {
   "display_name": "Python 3",
   "language": "python",
   "name": "python3"
  },
  "language_info": {
   "codemirror_mode": {
    "name": "ipython",
    "version": 3
   },
   "file_extension": ".py",
   "mimetype": "text/x-python",
   "name": "python",
   "nbconvert_exporter": "python",
   "pygments_lexer": "ipython3",
   "version": "3.7.2"
  }
 },
 "nbformat": 4,
 "nbformat_minor": 4
}
